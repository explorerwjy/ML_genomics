{
 "cells": [
  {
   "cell_type": "code",
   "execution_count": 122,
   "metadata": {},
   "outputs": [
    {
     "name": "stdout",
     "output_type": "stream",
     "text": [
      "The autoreload extension is already loaded. To reload it, use:\n",
      "  %reload_ext autoreload\n"
     ]
    }
   ],
   "source": [
    "%load_ext autoreload\n",
    "%autoreload 2\n",
    "from JW import *\n",
    "import torch.optim as optim"
   ]
  },
  {
   "cell_type": "code",
   "execution_count": 3,
   "metadata": {},
   "outputs": [],
   "source": [
    "# human mouse gene map\n",
    "human2mouse = pickle.load(open(\"data/human2mouse.map\", 'rb'))\n",
    "mouse2human = pickle.load(open(\"data/mouse2human.map\", 'rb'))"
   ]
  },
  {
   "cell_type": "code",
   "execution_count": 4,
   "metadata": {},
   "outputs": [
    {
     "data": {
      "text/html": [
       "<div>\n",
       "<style scoped>\n",
       "    .dataframe tbody tr th:only-of-type {\n",
       "        vertical-align: middle;\n",
       "    }\n",
       "\n",
       "    .dataframe tbody tr th {\n",
       "        vertical-align: top;\n",
       "    }\n",
       "\n",
       "    .dataframe thead th {\n",
       "        text-align: right;\n",
       "    }\n",
       "</style>\n",
       "<table border=\"1\" class=\"dataframe\">\n",
       "  <thead>\n",
       "    <tr style=\"text-align: right;\">\n",
       "      <th></th>\n",
       "      <th>41x14</th>\n",
       "      <th>41x15</th>\n",
       "      <th>41x16</th>\n",
       "      <th>41x17</th>\n",
       "      <th>41x18</th>\n",
       "      <th>41x19</th>\n",
       "      <th>41x20</th>\n",
       "      <th>41x21</th>\n",
       "      <th>41x22</th>\n",
       "      <th>41x23</th>\n",
       "      <th>...</th>\n",
       "      <th>42x35</th>\n",
       "      <th>42x36</th>\n",
       "      <th>42x37</th>\n",
       "      <th>42x38</th>\n",
       "      <th>42x39</th>\n",
       "      <th>42x40</th>\n",
       "      <th>42x41</th>\n",
       "      <th>42x42</th>\n",
       "      <th>42x43</th>\n",
       "      <th>42x44</th>\n",
       "    </tr>\n",
       "  </thead>\n",
       "  <tbody>\n",
       "    <tr>\n",
       "      <th>Gm37363</th>\n",
       "      <td>0.0</td>\n",
       "      <td>0.0</td>\n",
       "      <td>0.0</td>\n",
       "      <td>0.0</td>\n",
       "      <td>0.0</td>\n",
       "      <td>0.0</td>\n",
       "      <td>0.0</td>\n",
       "      <td>0.0</td>\n",
       "      <td>0.0</td>\n",
       "      <td>0.0</td>\n",
       "      <td>...</td>\n",
       "      <td>0.0</td>\n",
       "      <td>0.0</td>\n",
       "      <td>0.0</td>\n",
       "      <td>0.0</td>\n",
       "      <td>0.0</td>\n",
       "      <td>0.0</td>\n",
       "      <td>0.0</td>\n",
       "      <td>0.0</td>\n",
       "      <td>0.0</td>\n",
       "      <td>0.0</td>\n",
       "    </tr>\n",
       "    <tr>\n",
       "      <th>Gm37686</th>\n",
       "      <td>0.0</td>\n",
       "      <td>0.0</td>\n",
       "      <td>0.0</td>\n",
       "      <td>0.0</td>\n",
       "      <td>0.0</td>\n",
       "      <td>0.0</td>\n",
       "      <td>0.0</td>\n",
       "      <td>0.0</td>\n",
       "      <td>0.0</td>\n",
       "      <td>0.0</td>\n",
       "      <td>...</td>\n",
       "      <td>0.0</td>\n",
       "      <td>0.0</td>\n",
       "      <td>0.0</td>\n",
       "      <td>0.0</td>\n",
       "      <td>0.0</td>\n",
       "      <td>0.0</td>\n",
       "      <td>0.0</td>\n",
       "      <td>0.0</td>\n",
       "      <td>0.0</td>\n",
       "      <td>0.0</td>\n",
       "    </tr>\n",
       "    <tr>\n",
       "      <th>Xkr4</th>\n",
       "      <td>0.0</td>\n",
       "      <td>0.0</td>\n",
       "      <td>0.0</td>\n",
       "      <td>0.0</td>\n",
       "      <td>0.0</td>\n",
       "      <td>0.0</td>\n",
       "      <td>0.0</td>\n",
       "      <td>0.0</td>\n",
       "      <td>0.0</td>\n",
       "      <td>0.0</td>\n",
       "      <td>...</td>\n",
       "      <td>0.0</td>\n",
       "      <td>0.0</td>\n",
       "      <td>0.0</td>\n",
       "      <td>0.0</td>\n",
       "      <td>0.0</td>\n",
       "      <td>0.0</td>\n",
       "      <td>0.0</td>\n",
       "      <td>0.0</td>\n",
       "      <td>0.0</td>\n",
       "      <td>0.0</td>\n",
       "    </tr>\n",
       "    <tr>\n",
       "      <th>Gm38148</th>\n",
       "      <td>0.0</td>\n",
       "      <td>0.0</td>\n",
       "      <td>0.0</td>\n",
       "      <td>0.0</td>\n",
       "      <td>0.0</td>\n",
       "      <td>0.0</td>\n",
       "      <td>0.0</td>\n",
       "      <td>0.0</td>\n",
       "      <td>0.0</td>\n",
       "      <td>0.0</td>\n",
       "      <td>...</td>\n",
       "      <td>0.0</td>\n",
       "      <td>0.0</td>\n",
       "      <td>0.0</td>\n",
       "      <td>0.0</td>\n",
       "      <td>0.0</td>\n",
       "      <td>0.0</td>\n",
       "      <td>0.0</td>\n",
       "      <td>0.0</td>\n",
       "      <td>0.0</td>\n",
       "      <td>0.0</td>\n",
       "    </tr>\n",
       "    <tr>\n",
       "      <th>Sox17</th>\n",
       "      <td>0.0</td>\n",
       "      <td>0.0</td>\n",
       "      <td>0.0</td>\n",
       "      <td>0.0</td>\n",
       "      <td>0.0</td>\n",
       "      <td>0.0</td>\n",
       "      <td>0.0</td>\n",
       "      <td>0.0</td>\n",
       "      <td>0.0</td>\n",
       "      <td>0.0</td>\n",
       "      <td>...</td>\n",
       "      <td>0.0</td>\n",
       "      <td>0.0</td>\n",
       "      <td>0.0</td>\n",
       "      <td>0.0</td>\n",
       "      <td>0.0</td>\n",
       "      <td>0.0</td>\n",
       "      <td>0.0</td>\n",
       "      <td>0.0</td>\n",
       "      <td>0.0</td>\n",
       "      <td>0.0</td>\n",
       "    </tr>\n",
       "    <tr>\n",
       "      <th>...</th>\n",
       "      <td>...</td>\n",
       "      <td>...</td>\n",
       "      <td>...</td>\n",
       "      <td>...</td>\n",
       "      <td>...</td>\n",
       "      <td>...</td>\n",
       "      <td>...</td>\n",
       "      <td>...</td>\n",
       "      <td>...</td>\n",
       "      <td>...</td>\n",
       "      <td>...</td>\n",
       "      <td>...</td>\n",
       "      <td>...</td>\n",
       "      <td>...</td>\n",
       "      <td>...</td>\n",
       "      <td>...</td>\n",
       "      <td>...</td>\n",
       "      <td>...</td>\n",
       "      <td>...</td>\n",
       "      <td>...</td>\n",
       "      <td>...</td>\n",
       "    </tr>\n",
       "    <tr>\n",
       "      <th>mt-Nd5</th>\n",
       "      <td>0.0</td>\n",
       "      <td>0.0</td>\n",
       "      <td>0.0</td>\n",
       "      <td>0.0</td>\n",
       "      <td>0.0</td>\n",
       "      <td>0.0</td>\n",
       "      <td>0.0</td>\n",
       "      <td>0.0</td>\n",
       "      <td>2.0</td>\n",
       "      <td>0.0</td>\n",
       "      <td>...</td>\n",
       "      <td>0.0</td>\n",
       "      <td>0.0</td>\n",
       "      <td>0.0</td>\n",
       "      <td>0.0</td>\n",
       "      <td>0.0</td>\n",
       "      <td>1.0</td>\n",
       "      <td>0.0</td>\n",
       "      <td>0.0</td>\n",
       "      <td>0.0</td>\n",
       "      <td>0.0</td>\n",
       "    </tr>\n",
       "    <tr>\n",
       "      <th>mt-Nd6</th>\n",
       "      <td>0.0</td>\n",
       "      <td>0.0</td>\n",
       "      <td>0.0</td>\n",
       "      <td>0.0</td>\n",
       "      <td>0.0</td>\n",
       "      <td>0.0</td>\n",
       "      <td>0.0</td>\n",
       "      <td>0.0</td>\n",
       "      <td>0.0</td>\n",
       "      <td>0.0</td>\n",
       "      <td>...</td>\n",
       "      <td>0.0</td>\n",
       "      <td>0.0</td>\n",
       "      <td>0.0</td>\n",
       "      <td>0.0</td>\n",
       "      <td>0.0</td>\n",
       "      <td>0.0</td>\n",
       "      <td>0.0</td>\n",
       "      <td>0.0</td>\n",
       "      <td>0.0</td>\n",
       "      <td>0.0</td>\n",
       "    </tr>\n",
       "    <tr>\n",
       "      <th>mt-Cytb</th>\n",
       "      <td>1.0</td>\n",
       "      <td>1.0</td>\n",
       "      <td>0.0</td>\n",
       "      <td>2.0</td>\n",
       "      <td>0.0</td>\n",
       "      <td>0.0</td>\n",
       "      <td>0.0</td>\n",
       "      <td>1.0</td>\n",
       "      <td>0.0</td>\n",
       "      <td>5.0</td>\n",
       "      <td>...</td>\n",
       "      <td>1.0</td>\n",
       "      <td>1.0</td>\n",
       "      <td>1.0</td>\n",
       "      <td>1.0</td>\n",
       "      <td>0.0</td>\n",
       "      <td>0.0</td>\n",
       "      <td>0.0</td>\n",
       "      <td>0.0</td>\n",
       "      <td>1.0</td>\n",
       "      <td>1.0</td>\n",
       "    </tr>\n",
       "    <tr>\n",
       "      <th>mt-Tt</th>\n",
       "      <td>0.0</td>\n",
       "      <td>0.0</td>\n",
       "      <td>0.0</td>\n",
       "      <td>0.0</td>\n",
       "      <td>0.0</td>\n",
       "      <td>0.0</td>\n",
       "      <td>0.0</td>\n",
       "      <td>0.0</td>\n",
       "      <td>0.0</td>\n",
       "      <td>0.0</td>\n",
       "      <td>...</td>\n",
       "      <td>0.0</td>\n",
       "      <td>0.0</td>\n",
       "      <td>0.0</td>\n",
       "      <td>0.0</td>\n",
       "      <td>0.0</td>\n",
       "      <td>0.0</td>\n",
       "      <td>0.0</td>\n",
       "      <td>0.0</td>\n",
       "      <td>0.0</td>\n",
       "      <td>0.0</td>\n",
       "    </tr>\n",
       "    <tr>\n",
       "      <th>mt-Tp</th>\n",
       "      <td>0.0</td>\n",
       "      <td>0.0</td>\n",
       "      <td>0.0</td>\n",
       "      <td>0.0</td>\n",
       "      <td>0.0</td>\n",
       "      <td>0.0</td>\n",
       "      <td>0.0</td>\n",
       "      <td>0.0</td>\n",
       "      <td>0.0</td>\n",
       "      <td>0.0</td>\n",
       "      <td>...</td>\n",
       "      <td>0.0</td>\n",
       "      <td>0.0</td>\n",
       "      <td>0.0</td>\n",
       "      <td>0.0</td>\n",
       "      <td>0.0</td>\n",
       "      <td>0.0</td>\n",
       "      <td>0.0</td>\n",
       "      <td>0.0</td>\n",
       "      <td>0.0</td>\n",
       "      <td>0.0</td>\n",
       "    </tr>\n",
       "  </tbody>\n",
       "</table>\n",
       "<p>18787 rows × 1789 columns</p>\n",
       "</div>"
      ],
      "text/plain": [
       "         41x14  41x15  41x16  41x17  41x18  41x19  41x20  41x21  41x22  41x23  \\\n",
       "Gm37363    0.0    0.0    0.0    0.0    0.0    0.0    0.0    0.0    0.0    0.0   \n",
       "Gm37686    0.0    0.0    0.0    0.0    0.0    0.0    0.0    0.0    0.0    0.0   \n",
       "Xkr4       0.0    0.0    0.0    0.0    0.0    0.0    0.0    0.0    0.0    0.0   \n",
       "Gm38148    0.0    0.0    0.0    0.0    0.0    0.0    0.0    0.0    0.0    0.0   \n",
       "Sox17      0.0    0.0    0.0    0.0    0.0    0.0    0.0    0.0    0.0    0.0   \n",
       "...        ...    ...    ...    ...    ...    ...    ...    ...    ...    ...   \n",
       "mt-Nd5     0.0    0.0    0.0    0.0    0.0    0.0    0.0    0.0    2.0    0.0   \n",
       "mt-Nd6     0.0    0.0    0.0    0.0    0.0    0.0    0.0    0.0    0.0    0.0   \n",
       "mt-Cytb    1.0    1.0    0.0    2.0    0.0    0.0    0.0    1.0    0.0    5.0   \n",
       "mt-Tt      0.0    0.0    0.0    0.0    0.0    0.0    0.0    0.0    0.0    0.0   \n",
       "mt-Tp      0.0    0.0    0.0    0.0    0.0    0.0    0.0    0.0    0.0    0.0   \n",
       "\n",
       "         ...  42x35  42x36  42x37  42x38  42x39  42x40  42x41  42x42  42x43  \\\n",
       "Gm37363  ...    0.0    0.0    0.0    0.0    0.0    0.0    0.0    0.0    0.0   \n",
       "Gm37686  ...    0.0    0.0    0.0    0.0    0.0    0.0    0.0    0.0    0.0   \n",
       "Xkr4     ...    0.0    0.0    0.0    0.0    0.0    0.0    0.0    0.0    0.0   \n",
       "Gm38148  ...    0.0    0.0    0.0    0.0    0.0    0.0    0.0    0.0    0.0   \n",
       "Sox17    ...    0.0    0.0    0.0    0.0    0.0    0.0    0.0    0.0    0.0   \n",
       "...      ...    ...    ...    ...    ...    ...    ...    ...    ...    ...   \n",
       "mt-Nd5   ...    0.0    0.0    0.0    0.0    0.0    1.0    0.0    0.0    0.0   \n",
       "mt-Nd6   ...    0.0    0.0    0.0    0.0    0.0    0.0    0.0    0.0    0.0   \n",
       "mt-Cytb  ...    1.0    1.0    1.0    1.0    0.0    0.0    0.0    0.0    1.0   \n",
       "mt-Tt    ...    0.0    0.0    0.0    0.0    0.0    0.0    0.0    0.0    0.0   \n",
       "mt-Tp    ...    0.0    0.0    0.0    0.0    0.0    0.0    0.0    0.0    0.0   \n",
       "\n",
       "         42x44  \n",
       "Gm37363    0.0  \n",
       "Gm37686    0.0  \n",
       "Xkr4       0.0  \n",
       "Gm38148    0.0  \n",
       "Sox17      0.0  \n",
       "...        ...  \n",
       "mt-Nd5     0.0  \n",
       "mt-Nd6     0.0  \n",
       "mt-Cytb    1.0  \n",
       "mt-Tt      0.0  \n",
       "mt-Tp      0.0  \n",
       "\n",
       "[18787 rows x 1789 columns]"
      ]
     },
     "execution_count": 4,
     "metadata": {},
     "output_type": "execute_result"
    }
   ],
   "source": [
    "spatial_data = pd.read_csv(\"../dat/Reformat_GSE137986/GSM4189614_0713cL.tsv\", delimiter=\"\\t\", index_col=0)\n",
    "spatial_data.fillna(0)"
   ]
  },
  {
   "cell_type": "code",
   "execution_count": 5,
   "metadata": {},
   "outputs": [],
   "source": [
    "autism_gene = pd.read_csv(\"../dat/sfari_high_confidence_genes_08292019.csv\", index_col=0)\n",
    "control_gene = pd.read_csv(\"../dat/control_genes_1911_iossifov.csv\", index_col=0)"
   ]
  },
  {
   "cell_type": "code",
   "execution_count": 6,
   "metadata": {},
   "outputs": [],
   "source": [
    "ssc = pd.read_excel(\"../dat/Supplementary_Table_7.xlsx\")"
   ]
  },
  {
   "cell_type": "code",
   "execution_count": 7,
   "metadata": {},
   "outputs": [],
   "source": [
    "sib = ssc[((ssc[\"dnv_LGDs_prb\"]==0) & (ssc[\"dnv_missense_prb\"]==0) ) & ((ssc[\"dnv_LGDs_sib\"]!=0) | (ssc[\"dnv_missense_sib\"]!=0))]"
   ]
  },
  {
   "cell_type": "code",
   "execution_count": 8,
   "metadata": {},
   "outputs": [
    {
     "data": {
      "text/html": [
       "<div>\n",
       "<style scoped>\n",
       "    .dataframe tbody tr th:only-of-type {\n",
       "        vertical-align: middle;\n",
       "    }\n",
       "\n",
       "    .dataframe tbody tr th {\n",
       "        vertical-align: top;\n",
       "    }\n",
       "\n",
       "    .dataframe thead th {\n",
       "        text-align: right;\n",
       "    }\n",
       "</style>\n",
       "<table border=\"1\" class=\"dataframe\">\n",
       "  <thead>\n",
       "    <tr style=\"text-align: right;\">\n",
       "      <th></th>\n",
       "      <th>gene</th>\n",
       "      <th>codingLen</th>\n",
       "      <th>codingLenInTarget</th>\n",
       "      <th>set_FMRPTargets</th>\n",
       "      <th>set_PSD</th>\n",
       "      <th>set_Embryonic</th>\n",
       "      <th>set_ChromatinModifiers</th>\n",
       "      <th>set_EssentialGenes</th>\n",
       "      <th>set_MendelianDiseaseGenes</th>\n",
       "      <th>set_DeNovoLGDsInSchizoprenia</th>\n",
       "      <th>...</th>\n",
       "      <th>dnv_missense_prbML</th>\n",
       "      <th>dnv_missense_prbMH</th>\n",
       "      <th>dnv_missense_prbF</th>\n",
       "      <th>dnv_missense_sib</th>\n",
       "      <th>dnv_synonymous_prb</th>\n",
       "      <th>dnv_synonymous_prbM</th>\n",
       "      <th>dnv_synonymous_prbML</th>\n",
       "      <th>dnv_synonymous_prbMH</th>\n",
       "      <th>dnv_synonymous_prbF</th>\n",
       "      <th>dnv_synonymous_sib</th>\n",
       "    </tr>\n",
       "  </thead>\n",
       "  <tbody>\n",
       "    <tr>\n",
       "      <th>366</th>\n",
       "      <td>NSD1</td>\n",
       "      <td>8091</td>\n",
       "      <td>8091</td>\n",
       "      <td>1</td>\n",
       "      <td>0</td>\n",
       "      <td>1</td>\n",
       "      <td>1</td>\n",
       "      <td>1</td>\n",
       "      <td>0</td>\n",
       "      <td>0</td>\n",
       "      <td>...</td>\n",
       "      <td>0</td>\n",
       "      <td>0</td>\n",
       "      <td>0</td>\n",
       "      <td>1</td>\n",
       "      <td>0</td>\n",
       "      <td>0</td>\n",
       "      <td>0</td>\n",
       "      <td>0</td>\n",
       "      <td>0</td>\n",
       "      <td>0</td>\n",
       "    </tr>\n",
       "    <tr>\n",
       "      <th>379</th>\n",
       "      <td>CHD6</td>\n",
       "      <td>8148</td>\n",
       "      <td>8148</td>\n",
       "      <td>1</td>\n",
       "      <td>0</td>\n",
       "      <td>0</td>\n",
       "      <td>1</td>\n",
       "      <td>0</td>\n",
       "      <td>0</td>\n",
       "      <td>0</td>\n",
       "      <td>...</td>\n",
       "      <td>0</td>\n",
       "      <td>0</td>\n",
       "      <td>0</td>\n",
       "      <td>1</td>\n",
       "      <td>0</td>\n",
       "      <td>0</td>\n",
       "      <td>0</td>\n",
       "      <td>0</td>\n",
       "      <td>0</td>\n",
       "      <td>0</td>\n",
       "    </tr>\n",
       "  </tbody>\n",
       "</table>\n",
       "<p>2 rows × 29 columns</p>\n",
       "</div>"
      ],
      "text/plain": [
       "     gene  codingLen  codingLenInTarget  set_FMRPTargets  set_PSD  \\\n",
       "366  NSD1       8091               8091                1        0   \n",
       "379  CHD6       8148               8148                1        0   \n",
       "\n",
       "     set_Embryonic  set_ChromatinModifiers  set_EssentialGenes  \\\n",
       "366              1                       1                   1   \n",
       "379              0                       1                   0   \n",
       "\n",
       "     set_MendelianDiseaseGenes  set_DeNovoLGDsInSchizoprenia  ...  \\\n",
       "366                          0                             0  ...   \n",
       "379                          0                             0  ...   \n",
       "\n",
       "     dnv_missense_prbML  dnv_missense_prbMH  dnv_missense_prbF  \\\n",
       "366                   0                   0                  0   \n",
       "379                   0                   0                  0   \n",
       "\n",
       "     dnv_missense_sib  dnv_synonymous_prb  dnv_synonymous_prbM  \\\n",
       "366                 1                   0                    0   \n",
       "379                 1                   0                    0   \n",
       "\n",
       "     dnv_synonymous_prbML  dnv_synonymous_prbMH  dnv_synonymous_prbF  \\\n",
       "366                     0                     0                    0   \n",
       "379                     0                     0                    0   \n",
       "\n",
       "     dnv_synonymous_sib  \n",
       "366                   0  \n",
       "379                   0  \n",
       "\n",
       "[2 rows x 29 columns]"
      ]
     },
     "execution_count": 8,
     "metadata": {},
     "output_type": "execute_result"
    }
   ],
   "source": [
    "sib.head(2)"
   ]
  },
  {
   "cell_type": "code",
   "execution_count": 224,
   "metadata": {},
   "outputs": [
    {
     "data": {
      "text/plain": [
       "(977, 29)"
      ]
     },
     "execution_count": 224,
     "metadata": {},
     "output_type": "execute_result"
    }
   ],
   "source": [
    "sib.shape"
   ]
  },
  {
   "cell_type": "code",
   "execution_count": 9,
   "metadata": {},
   "outputs": [],
   "source": [
    "autism_mouse_gene = [human2mouse[g] for g in autism_gene[\"gene.symbol\"].values if g in human2mouse]\n",
    "#cont_mouse_gene = [human2mouse[g] for g in control_gene[\"GeneName\"].values if g in human2mouse]\n",
    "cont_mouse_gene = [human2mouse[g] for g in sib[\"gene\"].values if g in human2mouse]"
   ]
  },
  {
   "cell_type": "code",
   "execution_count": 10,
   "metadata": {},
   "outputs": [
    {
     "name": "stdout",
     "output_type": "stream",
     "text": [
      "85 853\n"
     ]
    }
   ],
   "source": [
    "print(len(autism_mouse_gene), len(cont_mouse_gene))"
   ]
  },
  {
   "cell_type": "code",
   "execution_count": 11,
   "metadata": {},
   "outputs": [
    {
     "data": {
      "text/html": [
       "<div>\n",
       "<style scoped>\n",
       "    .dataframe tbody tr th:only-of-type {\n",
       "        vertical-align: middle;\n",
       "    }\n",
       "\n",
       "    .dataframe tbody tr th {\n",
       "        vertical-align: top;\n",
       "    }\n",
       "\n",
       "    .dataframe thead th {\n",
       "        text-align: right;\n",
       "    }\n",
       "</style>\n",
       "<table border=\"1\" class=\"dataframe\">\n",
       "  <thead>\n",
       "    <tr style=\"text-align: right;\">\n",
       "      <th></th>\n",
       "      <th>41x14</th>\n",
       "      <th>41x15</th>\n",
       "      <th>41x16</th>\n",
       "      <th>41x17</th>\n",
       "      <th>41x18</th>\n",
       "      <th>41x19</th>\n",
       "      <th>41x20</th>\n",
       "      <th>41x21</th>\n",
       "      <th>41x22</th>\n",
       "      <th>41x23</th>\n",
       "      <th>...</th>\n",
       "      <th>42x35</th>\n",
       "      <th>42x36</th>\n",
       "      <th>42x37</th>\n",
       "      <th>42x38</th>\n",
       "      <th>42x39</th>\n",
       "      <th>42x40</th>\n",
       "      <th>42x41</th>\n",
       "      <th>42x42</th>\n",
       "      <th>42x43</th>\n",
       "      <th>42x44</th>\n",
       "    </tr>\n",
       "  </thead>\n",
       "  <tbody>\n",
       "    <tr>\n",
       "      <th>Gm37363</th>\n",
       "      <td>0.0</td>\n",
       "      <td>0.0</td>\n",
       "      <td>0.0</td>\n",
       "      <td>0.0</td>\n",
       "      <td>0.0</td>\n",
       "      <td>0.0</td>\n",
       "      <td>0.0</td>\n",
       "      <td>0.0</td>\n",
       "      <td>0.0</td>\n",
       "      <td>0.0</td>\n",
       "      <td>...</td>\n",
       "      <td>0.0</td>\n",
       "      <td>0.0</td>\n",
       "      <td>0.0</td>\n",
       "      <td>0.0</td>\n",
       "      <td>0.0</td>\n",
       "      <td>0.0</td>\n",
       "      <td>0.0</td>\n",
       "      <td>0.0</td>\n",
       "      <td>0.0</td>\n",
       "      <td>0.0</td>\n",
       "    </tr>\n",
       "    <tr>\n",
       "      <th>Gm37686</th>\n",
       "      <td>0.0</td>\n",
       "      <td>0.0</td>\n",
       "      <td>0.0</td>\n",
       "      <td>0.0</td>\n",
       "      <td>0.0</td>\n",
       "      <td>0.0</td>\n",
       "      <td>0.0</td>\n",
       "      <td>0.0</td>\n",
       "      <td>0.0</td>\n",
       "      <td>0.0</td>\n",
       "      <td>...</td>\n",
       "      <td>0.0</td>\n",
       "      <td>0.0</td>\n",
       "      <td>0.0</td>\n",
       "      <td>0.0</td>\n",
       "      <td>0.0</td>\n",
       "      <td>0.0</td>\n",
       "      <td>0.0</td>\n",
       "      <td>0.0</td>\n",
       "      <td>0.0</td>\n",
       "      <td>0.0</td>\n",
       "    </tr>\n",
       "  </tbody>\n",
       "</table>\n",
       "<p>2 rows × 1789 columns</p>\n",
       "</div>"
      ],
      "text/plain": [
       "         41x14  41x15  41x16  41x17  41x18  41x19  41x20  41x21  41x22  41x23  \\\n",
       "Gm37363    0.0    0.0    0.0    0.0    0.0    0.0    0.0    0.0    0.0    0.0   \n",
       "Gm37686    0.0    0.0    0.0    0.0    0.0    0.0    0.0    0.0    0.0    0.0   \n",
       "\n",
       "         ...  42x35  42x36  42x37  42x38  42x39  42x40  42x41  42x42  42x43  \\\n",
       "Gm37363  ...    0.0    0.0    0.0    0.0    0.0    0.0    0.0    0.0    0.0   \n",
       "Gm37686  ...    0.0    0.0    0.0    0.0    0.0    0.0    0.0    0.0    0.0   \n",
       "\n",
       "         42x44  \n",
       "Gm37363    0.0  \n",
       "Gm37686    0.0  \n",
       "\n",
       "[2 rows x 1789 columns]"
      ]
     },
     "execution_count": 11,
     "metadata": {},
     "output_type": "execute_result"
    }
   ],
   "source": [
    "spatial_data.head(2)\n"
   ]
  },
  {
   "cell_type": "code",
   "execution_count": 31,
   "metadata": {},
   "outputs": [],
   "source": [
    "autism_spatial = spatial_data.loc[spatial_data.index.intersection(autism_mouse_gene),:]  \n",
    "cont_spatial = spatial_data.loc[spatial_data.index.intersection(cont_mouse_gene),:]  "
   ]
  },
  {
   "cell_type": "code",
   "execution_count": 45,
   "metadata": {},
   "outputs": [],
   "source": [
    "training_dat_pos = []\n",
    "for i, row in autism_spatial.iterrows():\n",
    "    dat = spatial_transform(autism_spatial.columns.values, row.values)\n",
    "    #print(torch.sum(dat[0][0]))\n",
    "    training_dat_pos.append((dat, np.float32(1)))\n",
    "\n",
    "training_dat_neg = []\n",
    "for i, row in cont_spatial.iterrows():\n",
    "    dat = spatial_transform(cont_spatial.columns.values, row.values)\n",
    "    #print(torch.sum(dat[0][0]))\n",
    "    training_dat_neg.append((dat, np.float32(0)))\n",
    "\n",
    "training_dat = training_dat_pos + training_dat_neg"
   ]
  },
  {
   "cell_type": "code",
   "execution_count": 46,
   "metadata": {},
   "outputs": [
    {
     "data": {
      "text/plain": [
       "'\\nFake_training_dat_pos = []\\nN_fake = 1000\\nfor dat in training_dat_pos:\\n    fake_dat = generateFakeDat(dat, N_fake, autism_spatial.columns.values, 1)\\n    Fake_training_dat_pos.extend(fake_dat)\\n\\nFake_training_dat_neg = []\\nN_fake = 1000\\nfor dat in training_dat_neg:\\n    fake_dat = generateFakeDat(dat, N_fake, cont_spatial.columns.values, 0)\\n    Fake_training_dat_neg.extend(fake_dat)\\n'"
      ]
     },
     "execution_count": 46,
     "metadata": {},
     "output_type": "execute_result"
    }
   ],
   "source": [
    "# Generate Fake Data\n",
    "\"\"\"\n",
    "Fake_training_dat_pos = []\n",
    "N_fake = 1000\n",
    "for dat in training_dat_pos:\n",
    "    fake_dat = generateFakeDat(dat, N_fake, autism_spatial.columns.values, 1)\n",
    "    Fake_training_dat_pos.extend(fake_dat)\n",
    "\n",
    "Fake_training_dat_neg = []\n",
    "N_fake = 1000\n",
    "for dat in training_dat_neg:\n",
    "    fake_dat = generateFakeDat(dat, N_fake, cont_spatial.columns.values, 0)\n",
    "    Fake_training_dat_neg.extend(fake_dat)\n",
    "\"\"\""
   ]
  },
  {
   "cell_type": "code",
   "execution_count": 47,
   "metadata": {},
   "outputs": [
    {
     "name": "stdout",
     "output_type": "stream",
     "text": [
      "561 241\n"
     ]
    }
   ],
   "source": [
    "train, test = sklearn.model_selection.train_test_split(training_dat, test_size=0.3)\n",
    "print(len(train), len(test))"
   ]
  },
  {
   "cell_type": "code",
   "execution_count": 48,
   "metadata": {},
   "outputs": [],
   "source": [
    "# Generate Fake Training Data\n",
    "Fake_training_dat = []\n",
    "N_fake = 20\n",
    "for dat in train:\n",
    "    fake_dat = generateFakeDat(dat, N_fake, autism_spatial.columns.values)\n",
    "    Fake_training_dat.extend(fake_dat)\n",
    "train_w_fake = train + Fake_training_dat"
   ]
  },
  {
   "cell_type": "code",
   "execution_count": null,
   "metadata": {},
   "outputs": [],
   "source": []
  },
  {
   "cell_type": "code",
   "execution_count": 50,
   "metadata": {},
   "outputs": [],
   "source": [
    "# Normlize data to [0, 1] scale\n",
    "for dat in train:\n",
    "    #print(torch.max(dat[0][0]))\n",
    "    if torch.max(dat[0][0]) == 0:\n",
    "        continue\n",
    "    else:\n",
    "        dat[0][0] = dat[0][0]/torch.max(dat[0][0])"
   ]
  },
  {
   "cell_type": "code",
   "execution_count": 52,
   "metadata": {},
   "outputs": [],
   "source": [
    "for i, dat in enumerate(train):\n",
    "    if torch.max(dat[0][0]) == 0:\n",
    "        continue\n",
    "    else:\n",
    "        dat[0][0] = dat[0][0]/torch.max(dat[0][0])"
   ]
  },
  {
   "cell_type": "code",
   "execution_count": 454,
   "metadata": {},
   "outputs": [],
   "source": [
    "batch_size = 64\n",
    "trainloader = torch.utils.data.DataLoader(train, batch_size=batch_size,\n",
    "                                          shuffle=True, num_workers=1)\n",
    "testloader = torch.utils.data.DataLoader(test, batch_size=batch_size,\n",
    "                                          shuffle=False, num_workers=1)"
   ]
  },
  {
   "cell_type": "code",
   "execution_count": 467,
   "metadata": {},
   "outputs": [],
   "source": [
    "device = torch.device(\"cuda:0\" if torch.cuda.is_available() else \"cpu\")\n",
    "net = CNN()\n",
    "net.to(device)\n",
    "#criterion = nn.CrossEntropyLoss(pos_weight=pos_weight)\n",
    "optimizer = optim.Adam(net.parameters(), lr=0.001, weight_decay=0.2)"
   ]
  },
  {
   "cell_type": "code",
   "execution_count": 530,
   "metadata": {},
   "outputs": [
    {
     "name": "stdout",
     "output_type": "stream",
     "text": [
      "epoch 1, loss: 0.757 training auc:0.860  testing auc:0.653\n",
      "epoch 2, loss: 0.758 training auc:0.867  testing auc:0.757\n",
      "epoch 3, loss: 0.757 training auc:0.862  testing auc:0.727\n",
      "epoch 4, loss: 0.759 training auc:0.889  testing auc:0.739\n",
      "epoch 5, loss: 0.708 training auc:0.906  testing auc:0.707\n",
      "epoch 6, loss: 0.688 training auc:0.884  testing auc:0.635\n",
      "epoch 7, loss: 0.697 training auc:0.907  testing auc:0.703\n",
      "epoch 8, loss: 0.665 training auc:0.898  testing auc:0.622\n",
      "epoch 9, loss: 0.722 training auc:0.914  testing auc:0.738\n",
      "epoch 10, loss: 0.683 training auc:0.914  testing auc:0.761\n",
      "epoch 11, loss: 0.681 training auc:0.930  testing auc:0.681\n",
      "epoch 12, loss: 0.622 training auc:0.924  testing auc:0.676\n",
      "epoch 13, loss: 0.644 training auc:0.912  testing auc:0.817\n",
      "epoch 14, loss: 0.664 training auc:0.904  testing auc:0.591\n",
      "epoch 15, loss: 0.715 training auc:0.919  testing auc:0.611\n",
      "epoch 16, loss: 0.680 training auc:0.930  testing auc:0.732\n",
      "epoch 17, loss: 0.657 training auc:0.905  testing auc:0.723\n",
      "epoch 18, loss: 0.608 training auc:0.898  testing auc:0.678\n",
      "epoch 19, loss: 0.641 training auc:0.925  testing auc:0.721\n",
      "epoch 20, loss: 0.569 training auc:0.934  testing auc:0.734\n",
      "epoch 21, loss: 0.558 training auc:0.927  testing auc:0.669\n",
      "epoch 22, loss: 0.558 training auc:0.943  testing auc:0.756\n",
      "epoch 23, loss: 0.548 training auc:0.953  testing auc:0.656\n",
      "epoch 24, loss: 0.584 training auc:0.944  testing auc:0.675\n",
      "epoch 25, loss: 0.629 training auc:0.914  testing auc:0.764\n",
      "epoch 26, loss: 0.603 training auc:0.941  testing auc:0.718\n",
      "epoch 27, loss: 0.636 training auc:0.946  testing auc:0.602\n",
      "epoch 28, loss: 0.548 training auc:0.954  testing auc:0.623\n",
      "epoch 29, loss: 0.590 training auc:0.924  testing auc:0.715\n",
      "epoch 30, loss: 0.570 training auc:0.948  testing auc:0.622\n",
      "epoch 31, loss: 0.561 training auc:0.965  testing auc:0.602\n",
      "epoch 32, loss: 0.574 training auc:0.955  testing auc:0.653\n",
      "epoch 33, loss: 0.558 training auc:0.965  testing auc:0.606\n",
      "epoch 34, loss: 0.539 training auc:0.946  testing auc:0.578\n",
      "epoch 35, loss: 0.550 training auc:0.940  testing auc:0.755\n",
      "epoch 36, loss: 0.590 training auc:0.943  testing auc:0.752\n",
      "epoch 37, loss: 0.582 training auc:0.929  testing auc:0.673\n",
      "epoch 38, loss: 0.544 training auc:0.935  testing auc:0.719\n",
      "epoch 39, loss: 0.576 training auc:0.948  testing auc:0.717\n",
      "Finished Training\n"
     ]
    }
   ],
   "source": [
    "for epoch in range(40):  # loop over the dataset multiple times\n",
    "    losses = []\n",
    "    accuracies = []\n",
    "    for i, data in enumerate(trainloader, 0):\n",
    "        inputs, labels = data[0].to(device), data[1].to(device)\n",
    "        optimizer.zero_grad()\n",
    "        outputs = net(inputs)\n",
    "        outputs = outputs.squeeze()\n",
    "        assert labels.size() == outputs.size()\n",
    "        pos_weight = labels * 5 + 1\n",
    "        #print(pos_weight)\n",
    "        loss = F.binary_cross_entropy_with_logits( outputs, labels , pos_weight=pos_weight)\n",
    "        loss.backward()\n",
    "        optimizer.step()\n",
    "        losses.append(loss.detach().cpu().numpy())\n",
    "    if epoch % 1 == 0 and epoch != 0:\n",
    "        train_labels, train_pred = getACC(net, trainloader, device=device)\n",
    "        fpr, tpr, thresholds = roc_curve(train_labels, train_pred)\n",
    "        roc_auc_train = auc(fpr, tpr)\n",
    "        test_labels, test_pred = getACC(net, testloader, device=device)\n",
    "        fpr, tpr, thresholds = roc_curve(test_labels, test_pred)\n",
    "        roc_auc_test = auc(fpr, tpr)\n",
    "\n",
    "        print('epoch %d, loss: %.3f training auc:%.3f  testing auc:%.3f' % \n",
    "              (epoch, np.mean(losses), roc_auc_train, roc_auc_test))\n",
    "print('Finished Training')"
   ]
  },
  {
   "cell_type": "code",
   "execution_count": 531,
   "metadata": {},
   "outputs": [
    {
     "name": "stdout",
     "output_type": "stream",
     "text": [
      "0.7317510969286\n"
     ]
    },
    {
     "data": {
      "text/plain": [
       "Text(0, 0.5, 'True Positive Rate')"
      ]
     },
     "execution_count": 531,
     "metadata": {},
     "output_type": "execute_result"
    },
    {
     "data": {
      "image/png": "[encoded data removed]",
      "text/plain": [
       "<Figure size 720x480 with 1 Axes>"
      ]
     },
     "metadata": {
      "needs_background": "light"
     },
     "output_type": "display_data"
    }
   ],
   "source": [
    "plt.figure(dpi=120)\n",
    "train_labels, train_pred = getACC(net, trainloader, device=device)\n",
    "fpr, tpr, thresholds = roc_curve(train_labels, train_pred)\n",
    "roc_auc_train = auc(fpr, tpr)\n",
    "plt.plot(fpr, tpr, lw=2, alpha=1,\n",
    "             label='training')\n",
    "\n",
    "test_labels, test_pred = getACC(net, testloader, device=device)\n",
    "fpr, tpr, thresholds = roc_curve(test_labels, test_pred)\n",
    "roc_auc = auc(fpr, tpr)\n",
    "print(roc_auc)\n",
    "\n",
    "plt.plot(fpr, tpr, lw=2, alpha=1,\n",
    "             label='testing')\n",
    "plt.text(x=0.6, y=0.2, s=\"Training AUC=%.3f\\nTesting_AUT=%.3f\"%(roc_auc_train, roc_auc))\n",
    "plt.plot([0, 1], [0, 1], linestyle='--', lw=2, color='r',\n",
    "         alpha=.8)\n",
    "plt.legend()\n",
    "plt.xlabel('False Positive Rate')\n",
    "plt.ylabel('True Positive Rate')"
   ]
  },
  {
   "cell_type": "code",
   "execution_count": 535,
   "metadata": {},
   "outputs": [],
   "source": [
    "model_weights = [] # we will save the conv layer weights in this list\n",
    "conv_layers = [] # we will save the 49 conv layers in this list\n",
    "# get all the model children as list\n",
    "model_children = list(net.children())"
   ]
  },
  {
   "cell_type": "code",
   "execution_count": 536,
   "metadata": {},
   "outputs": [
    {
     "name": "stdout",
     "output_type": "stream",
     "text": [
      "Total convolutional layers: 2\n"
     ]
    }
   ],
   "source": [
    "counter = 0 \n",
    "model_children = model_children[0]\n",
    "# append all the conv layers and their respective weights to the list\n",
    "for i in range(len(model_children)):\n",
    "    if type(model_children[i]) == nn.Conv2d:\n",
    "        counter += 1\n",
    "        model_weights.append(model_children[i].weight)\n",
    "        conv_layers.append(model_children[i])\n",
    "    elif type(model_children[i]) == nn.Sequential:\n",
    "        for j in range(len(model_children[i])):\n",
    "            for child in model_children[i][j].children():\n",
    "                if type(child) == nn.Conv2d:\n",
    "                    counter += 1\n",
    "                    model_weights.append(child.weight)\n",
    "                    conv_layers.append(child)\n",
    "print(f\"Total convolutional layers: {counter}\")"
   ]
  },
  {
   "cell_type": "code",
   "execution_count": 537,
   "metadata": {},
   "outputs": [
    {
     "name": "stdout",
     "output_type": "stream",
     "text": [
      "CONV: Conv2d(1, 4, kernel_size=(3, 3), stride=(1, 1), padding=(1, 1)) ====> SHAPE: torch.Size([4, 1, 3, 3])\n",
      "CONV: Conv2d(4, 8, kernel_size=(3, 3), stride=(1, 1), padding=(1, 1)) ====> SHAPE: torch.Size([8, 4, 3, 3])\n"
     ]
    }
   ],
   "source": [
    "for weight, conv in zip(model_weights, conv_layers):\n",
    "    # print(f\"WEIGHT: {weight} \\nSHAPE: {weight.shape}\")\n",
    "    print(f\"CONV: {conv} ====> SHAPE: {weight.shape}\")"
   ]
  },
  {
   "cell_type": "code",
   "execution_count": 538,
   "metadata": {},
   "outputs": [
    {
     "data": {
      "image/png": "[encoded data removed]",
      "text/plain": [
       "<Figure size 1440x1224 with 8 Axes>"
      ]
     },
     "metadata": {
      "needs_background": "light"
     },
     "output_type": "display_data"
    }
   ],
   "source": [
    "plt.figure(figsize=(20, 17))\n",
    "for i, filter in enumerate(model_weights[1]):\n",
    "    plt.subplot(8, 8, i+1) # (8, 8) because in conv0 we have 7x7 filters and total of 64 (see printed shapes)\n",
    "    plt.imshow(filter[0, :, :].detach().cpu(), cmap='gray')\n",
    "    plt.axis('off')\n",
    "    #plt.savefig('../outputs/filter.png')\n",
    "plt.show()"
   ]
  },
  {
   "cell_type": "code",
   "execution_count": 539,
   "metadata": {
    "scrolled": true
   },
   "outputs": [
    {
     "name": "stdout",
     "output_type": "stream",
     "text": [
      "0.9016393442622951 0.878\n"
     ]
    }
   ],
   "source": [
    "SE, PO, NE, NO = 0, 0, 0, 0\n",
    "for _pre, _lab in zip(train_pred, train_labels):\n",
    "    if _lab == 1:\n",
    "        PO += 1\n",
    "        if _pre>0.5:\n",
    "            SE += 1\n",
    "    if _lab == 0:\n",
    "        NO += 1\n",
    "        if _pre < 0.5:\n",
    "            NE += 1\n",
    "print(SE/PO, NE/NO)"
   ]
  },
  {
   "cell_type": "code",
   "execution_count": 540,
   "metadata": {},
   "outputs": [
    {
     "name": "stdout",
     "output_type": "stream",
     "text": [
      "0.43478260869565216 0.8577981651376146\n"
     ]
    }
   ],
   "source": [
    "SE, PO, NE, NO = 0, 0, 0, 0\n",
    "for _pre, _lab in zip(test_pred, test_labels):\n",
    "    if _lab == 1:\n",
    "        #print(_pre, _lab)\n",
    "        PO += 1\n",
    "        if _pre>0.5 and _lab == 1:\n",
    "            SE += 1\n",
    "    if _lab == 0:\n",
    "        NO += 1\n",
    "        if _pre < 0.5:\n",
    "            NE += 1\n",
    "print(SE/PO, NE/NO)"
   ]
  },
  {
   "cell_type": "code",
   "execution_count": 541,
   "metadata": {},
   "outputs": [],
   "source": [
    "# Scoreing All genes\n",
    "spatial_data.loc[spatial_data.index.intersection(autism_mouse_gene),:]  \n",
    "WholeGenomeDat = []\n",
    "for human_g, mouse_g in human2mouse.items():\n",
    "    if mouse_g in spatial_data.index:\n",
    "        dat = spatial_data.loc[mouse_g,:]\n",
    "        dat = spatial_transform(spatial_data.columns.values, dat.values)\n",
    "        WholeGenomeDat.append((dat, human_g))"
   ]
  },
  {
   "cell_type": "code",
   "execution_count": 542,
   "metadata": {},
   "outputs": [],
   "source": [
    "for dat in WholeGenomeDat:\n",
    "    if torch.max(dat[0][0]) == 0:\n",
    "        continue\n",
    "    else:\n",
    "        dat[0][0] = dat[0][0]/torch.max(dat[0][0])"
   ]
  },
  {
   "cell_type": "code",
   "execution_count": 543,
   "metadata": {},
   "outputs": [],
   "source": [
    "batch_size = 64\n",
    "wholeloader = torch.utils.data.DataLoader(WholeGenomeDat, batch_size=batch_size,\n",
    "                                          shuffle=False, num_workers=1)"
   ]
  },
  {
   "cell_type": "code",
   "execution_count": 544,
   "metadata": {},
   "outputs": [
    {
     "name": "stderr",
     "output_type": "stream",
     "text": [
      "D:\\Coursework\\ML_Genomics\\FinalProj\\ML_project\\Code\\JW.py:227: FutureWarning: elementwise comparison failed; returning scalar instead, but in the future will perform elementwise comparison\n",
      "  correct_results_sum1 = ((all_pred >= 0.5) ==  (all_labels ==1)).sum() / len(all_labels)\n",
      "D:\\Coursework\\ML_Genomics\\FinalProj\\ML_project\\Code\\JW.py:228: FutureWarning: elementwise comparison failed; returning scalar instead, but in the future will perform elementwise comparison\n",
      "  correct_results_sum2 = ((all_pred < 0.5) ==  (all_labels ==0)).sum() / len(all_labels)\n"
     ]
    }
   ],
   "source": [
    "wgs_genes, wgs_score = getACC_WGS(net, wholeloader, device)"
   ]
  },
  {
   "cell_type": "code",
   "execution_count": 545,
   "metadata": {},
   "outputs": [
    {
     "name": "stdout",
     "output_type": "stream",
     "text": [
      "12786\n"
     ]
    }
   ],
   "source": [
    "print(len(wgs_genes))"
   ]
  },
  {
   "cell_type": "code",
   "execution_count": 546,
   "metadata": {},
   "outputs": [
    {
     "data": {
      "text/plain": [
       "array([0.85831457, 0.0148738 , 0.555161  , ..., 0.08382957, 0.90027767,\n",
       "       0.42203104])"
      ]
     },
     "execution_count": 546,
     "metadata": {},
     "output_type": "execute_result"
    }
   ],
   "source": [
    "wgs_score"
   ]
  },
  {
   "cell_type": "code",
   "execution_count": 547,
   "metadata": {},
   "outputs": [
    {
     "data": {
      "text/plain": [
       "(array([3376., 2239., 1845., 1494., 1150.,  939.,  773.,  485.,  360.,\n",
       "         125.]),\n",
       " array([3.52064235e-05, 9.86760139e-02, 1.97316821e-01, 2.95957629e-01,\n",
       "        3.94598436e-01, 4.93239244e-01, 5.91880051e-01, 6.90520859e-01,\n",
       "        7.89161666e-01, 8.87802474e-01, 9.86443281e-01]),\n",
       " <BarContainer object of 10 artists>)"
      ]
     },
     "execution_count": 547,
     "metadata": {},
     "output_type": "execute_result"
    },
    {
     "data": {
      "image/png": "[encoded data removed]",
      "text/plain": [
       "<Figure size 432x288 with 1 Axes>"
      ]
     },
     "metadata": {
      "needs_background": "light"
     },
     "output_type": "display_data"
    }
   ],
   "source": [
    "plt.hist(wgs_score)"
   ]
  },
  {
   "cell_type": "code",
   "execution_count": 548,
   "metadata": {},
   "outputs": [],
   "source": [
    "gene2score = dict(zip(wgs_genes, wgs_score))"
   ]
  },
  {
   "cell_type": "code",
   "execution_count": 549,
   "metadata": {},
   "outputs": [],
   "source": [
    "ASC_TADA = pd.read_excel(\"../dat/1-s2.0-S0092867419313984-mmc2.xlsx\", sheet_name=\"Autosomal\", index_col=\"gene\")"
   ]
  },
  {
   "cell_type": "code",
   "execution_count": 550,
   "metadata": {},
   "outputs": [
    {
     "name": "stdout",
     "output_type": "stream",
     "text": [
      "915\n"
     ]
    }
   ],
   "source": [
    "score_cut = 0.7\n",
    "selected_genes = []\n",
    "for gene, score in gene2score.items():\n",
    "    if score >= score_cut:\n",
    "        selected_genes.append(gene)\n",
    "print(len(selected_genes))"
   ]
  },
  {
   "cell_type": "code",
   "execution_count": 551,
   "metadata": {},
   "outputs": [
    {
     "name": "stdout",
     "output_type": "stream",
     "text": [
      "(837, 54)\n"
     ]
    }
   ],
   "source": [
    "ASC_TADA_select = ASC_TADA.loc[ASC_TADA.index.intersection(selected_genes), :]\n",
    "#ASC_TADA_select = ASC_TADA.sample(270)\n",
    "print(ASC_TADA_select.shape)"
   ]
  },
  {
   "cell_type": "code",
   "execution_count": 552,
   "metadata": {},
   "outputs": [
    {
     "name": "stdout",
     "output_type": "stream",
     "text": [
      "(797, 54)\n"
     ]
    }
   ],
   "source": [
    "train_genes = list(autism_gene[\"gene.symbol\"].values)\n",
    "to_drop = ASC_TADA_select.index.intersection(train_genes)\n",
    "ASC_TADA_select = ASC_TADA_select.drop(index = to_drop)\n",
    "print(ASC_TADA_select.shape)"
   ]
  },
  {
   "cell_type": "code",
   "execution_count": 553,
   "metadata": {},
   "outputs": [
    {
     "name": "stdout",
     "output_type": "stream",
     "text": [
      "(17400, 54)\n",
      "798 599.3833723430731 1.3313682641553883 0.24889301711394346\n"
     ]
    }
   ],
   "source": [
    "ASC_NTrio = 6430\n",
    "asc = ASC_TADA\n",
    "\n",
    "train_genes = list(autism_gene[\"gene.symbol\"].values)\n",
    "to_drop = asc.index.intersection(train_genes)\n",
    "asc = asc.drop(index = to_drop)\n",
    "print(asc.shape)\n",
    "\n",
    "N_LGD = sum(asc[\"dn.ptv\"])\n",
    "N_LGD_exp = sum(asc[\"mut.ptv\"]) * 2 * ASC_NTrio\n",
    "print(N_LGD, N_LGD_exp, N_LGD/N_LGD_exp, (N_LGD - N_LGD_exp)/N_LGD)"
   ]
  },
  {
   "cell_type": "code",
   "execution_count": 554,
   "metadata": {},
   "outputs": [
    {
     "name": "stdout",
     "output_type": "stream",
     "text": [
      "71 33.69649950808307 0.5254014153791117\n"
     ]
    }
   ],
   "source": [
    "N_LGD = sum(ASC_TADA_select[\"dn.ptv\"])\n",
    "N_LGD_exp = sum(ASC_TADA_select[\"mut.ptv\"]) * 2 * ASC_NTrio\n",
    "print(N_LGD, N_LGD_exp, (N_LGD - N_LGD_exp)/N_LGD)"
   ]
  },
  {
   "cell_type": "code",
   "execution_count": 555,
   "metadata": {},
   "outputs": [
    {
     "name": "stdout",
     "output_type": "stream",
     "text": [
      "1163 1047.3793761738398 1.1103903957403969 0.09941584163900277\n"
     ]
    }
   ],
   "source": [
    "N_Mis = sum(asc[\"dn.misa\"]) + sum(asc[\"dn.misb\"])\n",
    "N_Mis_exp = (sum(asc[\"mut.misa\"]) + sum(asc[\"mut.misb\"])) * 2 * ASC_NTrio\n",
    "print(N_Mis, N_Mis_exp, N_Mis/N_Mis_exp, (N_Mis - N_Mis_exp)/N_Mis)"
   ]
  },
  {
   "cell_type": "code",
   "execution_count": 556,
   "metadata": {},
   "outputs": [
    {
     "name": "stdout",
     "output_type": "stream",
     "text": [
      "89 75.0523524966838 0.15671514048669893\n"
     ]
    }
   ],
   "source": [
    "N_Mis = sum(ASC_TADA_select[\"dn.misa\"]) + sum(ASC_TADA_select[\"dn.misb\"])\n",
    "N_Mis_exp = (sum(ASC_TADA_select[\"mut.misa\"]) + sum(ASC_TADA_select[\"mut.misb\"])) * 2 * ASC_NTrio\n",
    "print(N_Mis, N_Mis_exp, (N_Mis - N_Mis_exp)/N_Mis)"
   ]
  },
  {
   "cell_type": "code",
   "execution_count": 557,
   "metadata": {},
   "outputs": [],
   "source": [
    "#Diciles\n",
    "gene_sort_by_score = [g for g, s in sorted(gene2score.items(), key=lambda x:x[1])]"
   ]
  },
  {
   "cell_type": "code",
   "execution_count": 558,
   "metadata": {},
   "outputs": [
    {
     "name": "stdout",
     "output_type": "stream",
     "text": [
      "12786\n"
     ]
    }
   ],
   "source": [
    "print(len(gene_sort_by_score))"
   ]
  },
  {
   "cell_type": "code",
   "execution_count": 559,
   "metadata": {},
   "outputs": [],
   "source": [
    "def chunks(lst, n):\n",
    "    \"\"\"Yield successive n-sized chunks from lst.\"\"\"\n",
    "    for i in range(0, len(lst), n):\n",
    "        yield lst[i:i + n]"
   ]
  },
  {
   "cell_type": "code",
   "execution_count": 560,
   "metadata": {},
   "outputs": [],
   "source": [
    "dat_LGD, dat_Mis = [],[]\n",
    "index = []\n",
    "for i, gene_group in enumerate(chunks(gene_sort_by_score, 1000)):\n",
    "    #print(gene_group)\n",
    "    ASC_TADA_select = ASC_TADA.loc[ASC_TADA.index.intersection(gene_group), :]\n",
    "    to_drop = ASC_TADA_select.index.intersection(train_genes)\n",
    "    ASC_TADA_select = ASC_TADA_select.drop(index = to_drop)\n",
    "    N_LGD = sum(ASC_TADA_select[\"dn.ptv\"])\n",
    "    N_LGD_exp = sum(ASC_TADA_select[\"mut.ptv\"]) * 2 * ASC_NTrio\n",
    "    N_Mis = sum(ASC_TADA_select[\"dn.misa\"]) + sum(ASC_TADA_select[\"dn.misb\"])\n",
    "    N_Mis_exp = (sum(ASC_TADA_select[\"mut.misa\"]) + sum(ASC_TADA_select[\"mut.misb\"])) * 2 * ASC_NTrio\n",
    "    LGD_r = N_LGD/N_LGD_exp\n",
    "    Mis_r = N_Mis/N_Mis_exp\n",
    "    dat_LGD.append(LGD_r)\n",
    "    dat_Mis.append(Mis_r)\n",
    "    index.append(i)"
   ]
  },
  {
   "cell_type": "code",
   "execution_count": 561,
   "metadata": {},
   "outputs": [
    {
     "name": "stdout",
     "output_type": "stream",
     "text": [
      "13 13\n"
     ]
    }
   ],
   "source": [
    "print(len(index), len(dat_LGD))"
   ]
  },
  {
   "cell_type": "code",
   "execution_count": 569,
   "metadata": {},
   "outputs": [
    {
     "data": {
      "text/plain": [
       "Text(0, 0.5, 'Enrichment of LGD')"
      ]
     },
     "execution_count": 569,
     "metadata": {},
     "output_type": "execute_result"
    },
    {
     "data": {
      "image/png": "[encoded data removed]",
      "text/plain": [
       "<Figure size 480x480 with 1 Axes>"
      ]
     },
     "metadata": {
      "needs_background": "light"
     },
     "output_type": "display_data"
    }
   ],
   "source": [
    "plt.figure(dpi=120, figsize=(4,4))\n",
    "plt.scatter(index, dat_LGD, color=\"black\")\n",
    "plt.hlines(y=1.33, xmin=-1, xmax=13, color=\"grey\", alpha=0.5)\n",
    "plt.xlim((-1, 13))\n",
    "plt.xlabel(\"Score Decile\")\n",
    "plt.ylabel(\"Enrichment of LGD\")"
   ]
  },
  {
   "cell_type": "code",
   "execution_count": 570,
   "metadata": {},
   "outputs": [
    {
     "data": {
      "text/plain": [
       "Text(0, 0.5, 'Enrichment of DMis')"
      ]
     },
     "execution_count": 570,
     "metadata": {},
     "output_type": "execute_result"
    },
    {
     "data": {
      "image/png": "[encoded data removed]",
      "text/plain": [
       "<Figure size 480x480 with 1 Axes>"
      ]
     },
     "metadata": {
      "needs_background": "light"
     },
     "output_type": "display_data"
    }
   ],
   "source": [
    "plt.figure(dpi=120, figsize=(4,4))\n",
    "plt.scatter(index, dat_Mis, color=\"black\")\n",
    "plt.hlines(y=1.11, xmin=-1, xmax=13, color=\"grey\", alpha=0.5)\n",
    "plt.xlim((-1, 13))\n",
    "plt.xlabel(\"Score Decile\")\n",
    "plt.ylabel(\"Enrichment of DMis\")"
   ]
  },
  {
   "cell_type": "code",
   "execution_count": null,
   "metadata": {},
   "outputs": [],
   "source": []
  }
 ],
 "metadata": {
  "kernelspec": {
   "display_name": "Python 3",
   "language": "python",
   "name": "python3"
  },
  "language_info": {
   "codemirror_mode": {
    "name": "ipython",
    "version": 3
   },
   "file_extension": ".py",
   "mimetype": "text/x-python",
   "name": "python",
   "nbconvert_exporter": "python",
   "pygments_lexer": "ipython3",
   "version": "3.8.5"
  }
 },
 "nbformat": 4,
 "nbformat_minor": 4
}
